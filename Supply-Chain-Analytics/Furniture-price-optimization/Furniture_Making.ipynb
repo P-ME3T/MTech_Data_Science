{
 "cells": [
  {
   "cell_type": "markdown",
   "metadata": {},
   "source": [
    "### Importing Libraries and Dataset"
   ]
  },
  {
   "cell_type": "code",
   "execution_count": 24,
   "metadata": {},
   "outputs": [],
   "source": [
    "import numpy as np\n",
    "import pandas as pd\n",
    "import pulp as pp"
   ]
  },
  {
   "cell_type": "code",
   "execution_count": 25,
   "metadata": {},
   "outputs": [],
   "source": [
    "product = pd.read_excel('Product_Data.xlsx')\n",
    "resource = pd.read_excel('Resource_data.xlsx')"
   ]
  },
  {
   "cell_type": "code",
   "execution_count": 26,
   "metadata": {
    "scrolled": false
   },
   "outputs": [
    {
     "data": {
      "text/html": [
       "<div>\n",
       "<style scoped>\n",
       "    .dataframe tbody tr th:only-of-type {\n",
       "        vertical-align: middle;\n",
       "    }\n",
       "\n",
       "    .dataframe tbody tr th {\n",
       "        vertical-align: top;\n",
       "    }\n",
       "\n",
       "    .dataframe thead th {\n",
       "        text-align: right;\n",
       "    }\n",
       "</style>\n",
       "<table border=\"1\" class=\"dataframe\">\n",
       "  <thead>\n",
       "    <tr style=\"text-align: right;\">\n",
       "      <th></th>\n",
       "      <th>Item</th>\n",
       "      <th>Selling_Price</th>\n",
       "      <th>labor</th>\n",
       "      <th>metal</th>\n",
       "      <th>wood</th>\n",
       "    </tr>\n",
       "  </thead>\n",
       "  <tbody>\n",
       "    <tr>\n",
       "      <th>0</th>\n",
       "      <td>desks</td>\n",
       "      <td>94</td>\n",
       "      <td>2</td>\n",
       "      <td>1</td>\n",
       "      <td>3</td>\n",
       "    </tr>\n",
       "    <tr>\n",
       "      <th>1</th>\n",
       "      <td>chairs</td>\n",
       "      <td>79</td>\n",
       "      <td>1</td>\n",
       "      <td>1</td>\n",
       "      <td>3</td>\n",
       "    </tr>\n",
       "    <tr>\n",
       "      <th>2</th>\n",
       "      <td>bookcases</td>\n",
       "      <td>125</td>\n",
       "      <td>3</td>\n",
       "      <td>1</td>\n",
       "      <td>4</td>\n",
       "    </tr>\n",
       "    <tr>\n",
       "      <th>3</th>\n",
       "      <td>bedframes</td>\n",
       "      <td>109</td>\n",
       "      <td>2</td>\n",
       "      <td>1</td>\n",
       "      <td>4</td>\n",
       "    </tr>\n",
       "  </tbody>\n",
       "</table>\n",
       "</div>"
      ],
      "text/plain": [
       "        Item  Selling_Price  labor  metal  wood\n",
       "0      desks             94      2      1     3\n",
       "1     chairs             79      1      1     3\n",
       "2  bookcases            125      3      1     4\n",
       "3  bedframes            109      2      1     4"
      ]
     },
     "execution_count": 26,
     "metadata": {},
     "output_type": "execute_result"
    }
   ],
   "source": [
    "product"
   ]
  },
  {
   "cell_type": "code",
   "execution_count": 37,
   "metadata": {
    "scrolled": true
   },
   "outputs": [
    {
     "data": {
      "text/html": [
       "<div>\n",
       "<style scoped>\n",
       "    .dataframe tbody tr th:only-of-type {\n",
       "        vertical-align: middle;\n",
       "    }\n",
       "\n",
       "    .dataframe tbody tr th {\n",
       "        vertical-align: top;\n",
       "    }\n",
       "\n",
       "    .dataframe thead th {\n",
       "        text-align: right;\n",
       "    }\n",
       "</style>\n",
       "<table border=\"1\" class=\"dataframe\">\n",
       "  <thead>\n",
       "    <tr style=\"text-align: right;\">\n",
       "      <th></th>\n",
       "      <th>Resource</th>\n",
       "      <th>Cost</th>\n",
       "      <th>Amount_Available</th>\n",
       "    </tr>\n",
       "  </thead>\n",
       "  <tbody>\n",
       "    <tr>\n",
       "      <th>0</th>\n",
       "      <td>labor</td>\n",
       "      <td>14</td>\n",
       "      <td>225</td>\n",
       "    </tr>\n",
       "    <tr>\n",
       "      <th>1</th>\n",
       "      <td>metal</td>\n",
       "      <td>20</td>\n",
       "      <td>117</td>\n",
       "    </tr>\n",
       "    <tr>\n",
       "      <th>2</th>\n",
       "      <td>wood</td>\n",
       "      <td>11</td>\n",
       "      <td>420</td>\n",
       "    </tr>\n",
       "  </tbody>\n",
       "</table>\n",
       "</div>"
      ],
      "text/plain": [
       "  Resource  Cost  Amount_Available\n",
       "0    labor    14               225\n",
       "1    metal    20               117\n",
       "2     wood    11               420"
      ]
     },
     "execution_count": 37,
     "metadata": {},
     "output_type": "execute_result"
    }
   ],
   "source": [
    "resource"
   ]
  },
  {
   "cell_type": "markdown",
   "metadata": {},
   "source": [
    "### Using PuLP package for solving Linear Programming Problem \n",
    "### Setting Objective Sense to Maximization"
   ]
  },
  {
   "cell_type": "code",
   "execution_count": 28,
   "metadata": {},
   "outputs": [],
   "source": [
    "NetProfit = pp.LpProblem('Problem',pp.LpMaximize)"
   ]
  },
  {
   "cell_type": "markdown",
   "metadata": {},
   "source": [
    "### Initializing lower bound for all the set of items"
   ]
  },
  {
   "cell_type": "code",
   "execution_count": 29,
   "metadata": {},
   "outputs": [],
   "source": [
    "Desk = pp.LpVariable('Desk',lowBound=0)\n",
    "Chair = pp.LpVariable('Chair',lowBound=0)\n",
    "Bookcase = pp.LpVariable('Bookcase',lowBound=0)\n",
    "Bedframe = pp.LpVariable('Bedframe',lowBound=0)"
   ]
  },
  {
   "cell_type": "markdown",
   "metadata": {},
   "source": [
    "### Extracting the values from the dataset and forming the corresponding equation"
   ]
  },
  {
   "cell_type": "code",
   "execution_count": 30,
   "metadata": {},
   "outputs": [],
   "source": [
    "labor = (product.loc[0,'labor']*Desk + product.loc[1,'labor']*Chair \n",
    "         + product.loc[2,'labor']*Bookcase + product.loc[3,'labor']*Bedframe)\n",
    "\n",
    "metal = (product.loc[0,'metal']*Desk + product.loc[1,'metal']*Chair \n",
    "         + product.loc[2,'metal']*Bookcase + product.loc[3,'metal']*Bedframe)\n",
    "\n",
    "wood = (product.loc[0,'wood']*Desk + product.loc[1,'wood']*Chair \n",
    "        + product.loc[2,'wood']*Bookcase + product.loc[3,'wood']*Bedframe)"
   ]
  },
  {
   "cell_type": "markdown",
   "metadata": {},
   "source": [
    "### Setting the Objective Function NetProfit obtained by difference of Selling and Cost Price"
   ]
  },
  {
   "cell_type": "code",
   "execution_count": 31,
   "metadata": {},
   "outputs": [],
   "source": [
    "NetProfit += (product.loc[0,'Selling_Price']*Desk + product.loc[1,'Selling_Price']*Chair \n",
    "              + product.loc[2,'Selling_Price']*Bookcase + product.loc[3,'Selling_Price']*Bedframe) \n",
    "- (resource.loc[0,'Cost']*labor + resource.loc[1,'Cost']*metal + resource.loc[2,'Cost']*wood)"
   ]
  },
  {
   "cell_type": "markdown",
   "metadata": {},
   "source": [
    "### Setting the appropriate constraints"
   ]
  },
  {
   "cell_type": "code",
   "execution_count": 32,
   "metadata": {},
   "outputs": [],
   "source": [
    "NetProfit += labor <= 225\n",
    "NetProfit += metal <= 117\n",
    "NetProfit += wood <= 420"
   ]
  },
  {
   "cell_type": "markdown",
   "metadata": {},
   "source": [
    "### Printing the problem"
   ]
  },
  {
   "cell_type": "code",
   "execution_count": 33,
   "metadata": {
    "scrolled": false
   },
   "outputs": [
    {
     "name": "stdout",
     "output_type": "stream",
     "text": [
      "Problem:\n",
      "MAXIMIZE\n",
      "17*Bedframe + 19*Bookcase + 12*Chair + 13*Desk + 0\n",
      "SUBJECT TO\n",
      "_C1: 2 Bedframe + 3 Bookcase + Chair + 2 Desk <= 225\n",
      "\n",
      "_C2: Bedframe + Bookcase + Chair + Desk <= 117\n",
      "\n",
      "_C3: 4 Bedframe + 4 Bookcase + 3 Chair + 3 Desk <= 420\n",
      "\n",
      "VARIABLES\n",
      "Bedframe Continuous\n",
      "Bookcase Continuous\n",
      "Chair Continuous\n",
      "Desk Continuous\n",
      "\n"
     ]
    }
   ],
   "source": [
    "print(NetProfit)"
   ]
  },
  {
   "cell_type": "markdown",
   "metadata": {},
   "source": [
    "### Status of our LP Problem"
   ]
  },
  {
   "cell_type": "code",
   "execution_count": 34,
   "metadata": {},
   "outputs": [
    {
     "name": "stdout",
     "output_type": "stream",
     "text": [
      "Optimal\n"
     ]
    }
   ],
   "source": [
    "status = NetProfit.solve()\n",
    "print(pp.LpStatus[status])"
   ]
  },
  {
   "cell_type": "markdown",
   "metadata": {},
   "source": [
    "### Final Optimized Solution"
   ]
  },
  {
   "cell_type": "code",
   "execution_count": 36,
   "metadata": {},
   "outputs": [
    {
     "name": "stdout",
     "output_type": "stream",
     "text": [
      "Optimized Values Are:\n",
      "----------------------\n",
      "Desk:  0.0\n",
      "Chair:  48.0\n",
      "Bookcase:  39.0\n",
      "Bedframe:  30.0\n",
      "labor:  225.0\n",
      "metal:  117.0\n",
      "wood:  420.0\n",
      "Objective:  1827.0\n"
     ]
    }
   ],
   "source": [
    "print(\"Optimized Values Are:\")\n",
    "print(\"----------------------\")\n",
    "print(\"Desk: \",pp.value(Desk))\n",
    "print(\"Chair: \",pp.value(Chair))\n",
    "print(\"Bookcase: \",pp.value(Bookcase))\n",
    "print(\"Bedframe: \",pp.value(Bedframe))\n",
    "print(\"labor: \",pp.value(labor))\n",
    "print(\"metal: \",pp.value(metal))\n",
    "print(\"wood: \",pp.value(wood))\n",
    "print(\"Objective: \",pp.value(z.objective))"
   ]
  }
 ],
 "metadata": {
  "kernelspec": {
   "display_name": "Python 3",
   "language": "python",
   "name": "python3"
  },
  "language_info": {
   "codemirror_mode": {
    "name": "ipython",
    "version": 3
   },
   "file_extension": ".py",
   "mimetype": "text/x-python",
   "name": "python",
   "nbconvert_exporter": "python",
   "pygments_lexer": "ipython3",
   "version": "3.8.3"
  }
 },
 "nbformat": 4,
 "nbformat_minor": 4
}
