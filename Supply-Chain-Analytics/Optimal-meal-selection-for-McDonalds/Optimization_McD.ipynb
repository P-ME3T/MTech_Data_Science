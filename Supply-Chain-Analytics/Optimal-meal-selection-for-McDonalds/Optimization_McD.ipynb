{
  "nbformat": 4,
  "nbformat_minor": 0,
  "metadata": {
    "colab": {
      "name": "SCM_MiniProject.ipynb",
      "provenance": [],
      "collapsed_sections": []
    },
    "kernelspec": {
      "name": "python3",
      "display_name": "Python 3"
    }
  },
  "cells": [
    {
      "cell_type": "markdown",
      "metadata": {
        "id": "izBD1Z6TqxPA"
      },
      "source": [
        "# **Optimal meal selection at McDonalds.**"
      ]
    },
    {
      "cell_type": "code",
      "metadata": {
        "colab": {
          "base_uri": "https://localhost:8080/"
        },
        "id": "bI2w3H8h8xYs",
        "outputId": "b052b095-14f8-46f2-96f2-2e7f0ffc0940"
      },
      "source": [
        "import numpy as np\n",
        "import pandas as pd\n",
        "!pip install pulp \n",
        "from pulp import *\n",
        "import os\n",
        "import pulp as p "
      ],
      "execution_count": null,
      "outputs": [
        {
          "output_type": "stream",
          "text": [
            "Requirement already satisfied: pulp in /usr/local/lib/python3.7/dist-packages (2.4)\n",
            "Requirement already satisfied: amply>=0.1.2 in /usr/local/lib/python3.7/dist-packages (from pulp) (0.1.4)\n",
            "Requirement already satisfied: pyparsing in /usr/local/lib/python3.7/dist-packages (from amply>=0.1.2->pulp) (2.4.7)\n",
            "Requirement already satisfied: docutils>=0.3 in /usr/local/lib/python3.7/dist-packages (from amply>=0.1.2->pulp) (0.16)\n"
          ],
          "name": "stdout"
        }
      ]
    },
    {
      "cell_type": "code",
      "metadata": {
        "colab": {
          "base_uri": "https://localhost:8080/"
        },
        "id": "4QROZ_vtYMuJ",
        "outputId": "68f85d2a-6636-44d7-9259-7c2b45df78de"
      },
      "source": [
        "from google.colab import drive\n",
        "drive.mount('/content/drive')"
      ],
      "execution_count": null,
      "outputs": [
        {
          "output_type": "stream",
          "text": [
            "Drive already mounted at /content/drive; to attempt to forcibly remount, call drive.mount(\"/content/drive\", force_remount=True).\n"
          ],
          "name": "stdout"
        }
      ]
    },
    {
      "cell_type": "markdown",
      "metadata": {
        "id": "lkPyElbTruFB"
      },
      "source": [
        "Importing Datasets:"
      ]
    },
    {
      "cell_type": "code",
      "metadata": {
        "id": "wdPQKunh9IKQ"
      },
      "source": [
        "Mcdata = pd.read_excel('/content/drive/MyDrive/Datasets/Food_data.xlsx')\n",
        "food = pd.read_excel('/content/drive/MyDrive/Datasets/Nutrional_requirements.xlsx')"
      ],
      "execution_count": null,
      "outputs": []
    },
    {
      "cell_type": "code",
      "metadata": {
        "colab": {
          "base_uri": "https://localhost:8080/",
          "height": 141
        },
        "id": "8Set-Byu2OhK",
        "outputId": "a69f6391-eca6-4358-cc1b-463ee304d7d8"
      },
      "source": [
        "Mcdata_1=Mcdata.set_index('Name')\n",
        "Mcdata_1.head(2)"
      ],
      "execution_count": null,
      "outputs": [
        {
          "output_type": "execute_result",
          "data": {
            "text/html": [
              "<div>\n",
              "<style scoped>\n",
              "    .dataframe tbody tr th:only-of-type {\n",
              "        vertical-align: middle;\n",
              "    }\n",
              "\n",
              "    .dataframe tbody tr th {\n",
              "        vertical-align: top;\n",
              "    }\n",
              "\n",
              "    .dataframe thead th {\n",
              "        text-align: right;\n",
              "    }\n",
              "</style>\n",
              "<table border=\"1\" class=\"dataframe\">\n",
              "  <thead>\n",
              "    <tr style=\"text-align: right;\">\n",
              "      <th></th>\n",
              "      <th>cost</th>\n",
              "      <th>Cal</th>\n",
              "      <th>CalFat</th>\n",
              "      <th>Fat</th>\n",
              "      <th>SatFat</th>\n",
              "      <th>Chol</th>\n",
              "      <th>Sodium</th>\n",
              "      <th>Carbo</th>\n",
              "      <th>Protein</th>\n",
              "      <th>VitA</th>\n",
              "      <th>VitC</th>\n",
              "      <th>Calcium</th>\n",
              "      <th>Iron</th>\n",
              "    </tr>\n",
              "    <tr>\n",
              "      <th>Name</th>\n",
              "      <th></th>\n",
              "      <th></th>\n",
              "      <th></th>\n",
              "      <th></th>\n",
              "      <th></th>\n",
              "      <th></th>\n",
              "      <th></th>\n",
              "      <th></th>\n",
              "      <th></th>\n",
              "      <th></th>\n",
              "      <th></th>\n",
              "      <th></th>\n",
              "      <th></th>\n",
              "    </tr>\n",
              "  </thead>\n",
              "  <tbody>\n",
              "    <tr>\n",
              "      <th>Hamburger</th>\n",
              "      <td>0.59</td>\n",
              "      <td>255</td>\n",
              "      <td>80</td>\n",
              "      <td>9.0</td>\n",
              "      <td>3.0</td>\n",
              "      <td>35</td>\n",
              "      <td>490</td>\n",
              "      <td>30.0</td>\n",
              "      <td>12</td>\n",
              "      <td>4</td>\n",
              "      <td>4</td>\n",
              "      <td>10</td>\n",
              "      <td>15</td>\n",
              "    </tr>\n",
              "    <tr>\n",
              "      <th>Cheeseburger</th>\n",
              "      <td>0.69</td>\n",
              "      <td>305</td>\n",
              "      <td>120</td>\n",
              "      <td>13.0</td>\n",
              "      <td>5.0</td>\n",
              "      <td>50</td>\n",
              "      <td>725</td>\n",
              "      <td>30.0</td>\n",
              "      <td>15</td>\n",
              "      <td>8</td>\n",
              "      <td>4</td>\n",
              "      <td>20</td>\n",
              "      <td>15</td>\n",
              "    </tr>\n",
              "  </tbody>\n",
              "</table>\n",
              "</div>"
            ],
            "text/plain": [
              "              cost  Cal  CalFat   Fat  ...  VitA  VitC  Calcium  Iron\n",
              "Name                                   ...                           \n",
              "Hamburger     0.59  255      80   9.0  ...     4     4       10    15\n",
              "Cheeseburger  0.69  305     120  13.0  ...     8     4       20    15\n",
              "\n",
              "[2 rows x 13 columns]"
            ]
          },
          "metadata": {
            "tags": []
          },
          "execution_count": 9
        }
      ]
    },
    {
      "cell_type": "code",
      "metadata": {
        "id": "gwIpaT8J2T03",
        "colab": {
          "base_uri": "https://localhost:8080/",
          "height": 141
        },
        "outputId": "75a86f95-345b-44f5-a57f-f7215eedffeb"
      },
      "source": [
        "food_1=food.T\n",
        "food_1=food_1.rename(columns={0:'Cal',1:'CalFat',2:'Fat',3:'SatFat',4:'Chol',5:'Sodium',6:'Carbo',7:'Protein',8:'VitA',9:'VitC',10:'Calcium',11:'Iron'}).drop(['Name'],axis=0)\n",
        "food_1"
      ],
      "execution_count": null,
      "outputs": [
        {
          "output_type": "execute_result",
          "data": {
            "text/html": [
              "<div>\n",
              "<style scoped>\n",
              "    .dataframe tbody tr th:only-of-type {\n",
              "        vertical-align: middle;\n",
              "    }\n",
              "\n",
              "    .dataframe tbody tr th {\n",
              "        vertical-align: top;\n",
              "    }\n",
              "\n",
              "    .dataframe thead th {\n",
              "        text-align: right;\n",
              "    }\n",
              "</style>\n",
              "<table border=\"1\" class=\"dataframe\">\n",
              "  <thead>\n",
              "    <tr style=\"text-align: right;\">\n",
              "      <th></th>\n",
              "      <th>Cal</th>\n",
              "      <th>CalFat</th>\n",
              "      <th>Fat</th>\n",
              "      <th>SatFat</th>\n",
              "      <th>Chol</th>\n",
              "      <th>Sodium</th>\n",
              "      <th>Carbo</th>\n",
              "      <th>Protein</th>\n",
              "      <th>VitA</th>\n",
              "      <th>VitC</th>\n",
              "      <th>Calcium</th>\n",
              "      <th>Iron</th>\n",
              "    </tr>\n",
              "  </thead>\n",
              "  <tbody>\n",
              "    <tr>\n",
              "      <th>UOM</th>\n",
              "      <td>calories</td>\n",
              "      <td>calories</td>\n",
              "      <td>grams</td>\n",
              "      <td>grams</td>\n",
              "      <td>milligrams</td>\n",
              "      <td>milligrams</td>\n",
              "      <td>grams</td>\n",
              "      <td>grams</td>\n",
              "      <td>percent</td>\n",
              "      <td>percent</td>\n",
              "      <td>percent</td>\n",
              "      <td>percent</td>\n",
              "    </tr>\n",
              "    <tr>\n",
              "      <th>Min_RDA</th>\n",
              "      <td>2000</td>\n",
              "      <td>NaN</td>\n",
              "      <td>NaN</td>\n",
              "      <td>NaN</td>\n",
              "      <td>NaN</td>\n",
              "      <td>NaN</td>\n",
              "      <td>350</td>\n",
              "      <td>55</td>\n",
              "      <td>100</td>\n",
              "      <td>100</td>\n",
              "      <td>100</td>\n",
              "      <td>100</td>\n",
              "    </tr>\n",
              "    <tr>\n",
              "      <th>Max_RDA</th>\n",
              "      <td>NaN</td>\n",
              "      <td>NaN</td>\n",
              "      <td>100</td>\n",
              "      <td>30</td>\n",
              "      <td>375</td>\n",
              "      <td>3000</td>\n",
              "      <td>375</td>\n",
              "      <td>NaN</td>\n",
              "      <td>NaN</td>\n",
              "      <td>NaN</td>\n",
              "      <td>NaN</td>\n",
              "      <td>NaN</td>\n",
              "    </tr>\n",
              "  </tbody>\n",
              "</table>\n",
              "</div>"
            ],
            "text/plain": [
              "              Cal    CalFat    Fat SatFat  ...     VitA     VitC  Calcium     Iron\n",
              "UOM      calories  calories  grams  grams  ...  percent  percent  percent  percent\n",
              "Min_RDA      2000       NaN    NaN    NaN  ...      100      100      100      100\n",
              "Max_RDA       NaN       NaN    100     30  ...      NaN      NaN      NaN      NaN\n",
              "\n",
              "[3 rows x 12 columns]"
            ]
          },
          "metadata": {
            "tags": []
          },
          "execution_count": 10
        }
      ]
    },
    {
      "cell_type": "markdown",
      "metadata": {
        "id": "RGjF2Kcj4BMw"
      },
      "source": [
        "Datasets were concated for generalization."
      ]
    },
    {
      "cell_type": "code",
      "metadata": {
        "colab": {
          "base_uri": "https://localhost:8080/",
          "height": 202
        },
        "id": "h6shhqRIJhv8",
        "outputId": "6ac46196-0f67-4eb0-abb0-db1dc66dfeb6"
      },
      "source": [
        "df = pd.concat([food_1,Mcdata_1])\n",
        "df.head(5)"
      ],
      "execution_count": null,
      "outputs": [
        {
          "output_type": "execute_result",
          "data": {
            "text/html": [
              "<div>\n",
              "<style scoped>\n",
              "    .dataframe tbody tr th:only-of-type {\n",
              "        vertical-align: middle;\n",
              "    }\n",
              "\n",
              "    .dataframe tbody tr th {\n",
              "        vertical-align: top;\n",
              "    }\n",
              "\n",
              "    .dataframe thead th {\n",
              "        text-align: right;\n",
              "    }\n",
              "</style>\n",
              "<table border=\"1\" class=\"dataframe\">\n",
              "  <thead>\n",
              "    <tr style=\"text-align: right;\">\n",
              "      <th></th>\n",
              "      <th>Cal</th>\n",
              "      <th>CalFat</th>\n",
              "      <th>Fat</th>\n",
              "      <th>SatFat</th>\n",
              "      <th>Chol</th>\n",
              "      <th>Sodium</th>\n",
              "      <th>Carbo</th>\n",
              "      <th>Protein</th>\n",
              "      <th>VitA</th>\n",
              "      <th>VitC</th>\n",
              "      <th>Calcium</th>\n",
              "      <th>Iron</th>\n",
              "      <th>cost</th>\n",
              "    </tr>\n",
              "  </thead>\n",
              "  <tbody>\n",
              "    <tr>\n",
              "      <th>UOM</th>\n",
              "      <td>calories</td>\n",
              "      <td>calories</td>\n",
              "      <td>grams</td>\n",
              "      <td>grams</td>\n",
              "      <td>milligrams</td>\n",
              "      <td>milligrams</td>\n",
              "      <td>grams</td>\n",
              "      <td>grams</td>\n",
              "      <td>percent</td>\n",
              "      <td>percent</td>\n",
              "      <td>percent</td>\n",
              "      <td>percent</td>\n",
              "      <td>NaN</td>\n",
              "    </tr>\n",
              "    <tr>\n",
              "      <th>Min_RDA</th>\n",
              "      <td>2000</td>\n",
              "      <td>NaN</td>\n",
              "      <td>NaN</td>\n",
              "      <td>NaN</td>\n",
              "      <td>NaN</td>\n",
              "      <td>NaN</td>\n",
              "      <td>350</td>\n",
              "      <td>55</td>\n",
              "      <td>100</td>\n",
              "      <td>100</td>\n",
              "      <td>100</td>\n",
              "      <td>100</td>\n",
              "      <td>NaN</td>\n",
              "    </tr>\n",
              "    <tr>\n",
              "      <th>Max_RDA</th>\n",
              "      <td>NaN</td>\n",
              "      <td>NaN</td>\n",
              "      <td>100</td>\n",
              "      <td>30</td>\n",
              "      <td>375</td>\n",
              "      <td>3000</td>\n",
              "      <td>375</td>\n",
              "      <td>NaN</td>\n",
              "      <td>NaN</td>\n",
              "      <td>NaN</td>\n",
              "      <td>NaN</td>\n",
              "      <td>NaN</td>\n",
              "      <td>NaN</td>\n",
              "    </tr>\n",
              "    <tr>\n",
              "      <th>Hamburger</th>\n",
              "      <td>255</td>\n",
              "      <td>80</td>\n",
              "      <td>9</td>\n",
              "      <td>3</td>\n",
              "      <td>35</td>\n",
              "      <td>490</td>\n",
              "      <td>30</td>\n",
              "      <td>12</td>\n",
              "      <td>4</td>\n",
              "      <td>4</td>\n",
              "      <td>10</td>\n",
              "      <td>15</td>\n",
              "      <td>0.59</td>\n",
              "    </tr>\n",
              "    <tr>\n",
              "      <th>Cheeseburger</th>\n",
              "      <td>305</td>\n",
              "      <td>120</td>\n",
              "      <td>13</td>\n",
              "      <td>5</td>\n",
              "      <td>50</td>\n",
              "      <td>725</td>\n",
              "      <td>30</td>\n",
              "      <td>15</td>\n",
              "      <td>8</td>\n",
              "      <td>4</td>\n",
              "      <td>20</td>\n",
              "      <td>15</td>\n",
              "      <td>0.69</td>\n",
              "    </tr>\n",
              "  </tbody>\n",
              "</table>\n",
              "</div>"
            ],
            "text/plain": [
              "                   Cal    CalFat    Fat SatFat  ...     VitC  Calcium     Iron  cost\n",
              "UOM           calories  calories  grams  grams  ...  percent  percent  percent   NaN\n",
              "Min_RDA           2000       NaN    NaN    NaN  ...      100      100      100   NaN\n",
              "Max_RDA            NaN       NaN    100     30  ...      NaN      NaN      NaN   NaN\n",
              "Hamburger          255        80      9      3  ...        4       10       15  0.59\n",
              "Cheeseburger       305       120     13      5  ...        4       20       15  0.69\n",
              "\n",
              "[5 rows x 13 columns]"
            ]
          },
          "metadata": {
            "tags": []
          },
          "execution_count": 11
        }
      ]
    },
    {
      "cell_type": "code",
      "metadata": {
        "id": "ObfgXIE74PZN",
        "colab": {
          "base_uri": "https://localhost:8080/"
        },
        "outputId": "3c187d80-a778-4074-a078-8ab69e3c7fdc"
      },
      "source": [
        "# Convert the item names to a list\n",
        "MenuItems = Mcdata.Name.tolist()\n",
        "MenuItems"
      ],
      "execution_count": null,
      "outputs": [
        {
          "output_type": "execute_result",
          "data": {
            "text/plain": [
              "['Hamburger',\n",
              " 'Cheeseburger',\n",
              " 'Quarter Pound Cheeseburger',\n",
              " 'Local Minimum',\n",
              " 'Local Minimum with Cheese',\n",
              " 'Global Maximum',\n",
              " 'Fish Filet Sandwich',\n",
              " 'Grilled Chicken Sandwich',\n",
              " 'Fried Chicken Sandwich',\n",
              " 'Fries, small',\n",
              " 'Fries, large',\n",
              " 'Fries, optimal',\n",
              " 'Chicken Nuggets (6 pcs)',\n",
              " 'Chicken Nuggets (9 pcs)',\n",
              " 'Chicken Nuggets (20 pcs)',\n",
              " 'Hot Mustard Sauce',\n",
              " 'Barbeque Sauce',\n",
              " 'Sweet & Sour Sauce',\n",
              " 'Honey',\n",
              " 'Chef Salad',\n",
              " 'Fried Chicken Salad',\n",
              " 'Garden Salad',\n",
              " 'Side Salad',\n",
              " 'Croutons',\n",
              " 'Bacon Bits',\n",
              " 'Bleu Cheese Dressing',\n",
              " 'Ranch Dressing',\n",
              " '1000 Island Dressing',\n",
              " 'Lite Vinaigrette Dressing',\n",
              " 'French Reduced Cal Dressing',\n",
              " 'Toasted with Egg',\n",
              " 'Toasted with Sausage',\n",
              " 'Toasted with Sausage & Egg',\n",
              " 'Toasted English Muffin',\n",
              " 'Sausage Biscuit',\n",
              " 'Sausage Biscuit with Egg',\n",
              " 'Bacon, Egg & Cheese Biscuit',\n",
              " 'Hash Browns',\n",
              " 'Breakfast Burrito',\n",
              " 'Cheerios',\n",
              " 'Wheaties',\n",
              " 'Apple Danish',\n",
              " 'Cheese Danish',\n",
              " 'Cinnamon Raisin Danish',\n",
              " 'Raspberry Danish',\n",
              " 'Lowfat Frozen Yogurt Cone',\n",
              " 'Vanilla Shake',\n",
              " 'Chocolate Shake',\n",
              " 'Strawberry Shake',\n",
              " '1% Lowfat Milk',\n",
              " 'Orange Juice',\n",
              " 'Coca-Cola (small)',\n",
              " 'Coca-Cola (medium)',\n",
              " 'Coca-Cola (large)',\n",
              " 'Diet Coke (small)',\n",
              " 'Diet Coke (medium)',\n",
              " 'Diet Coke (large)',\n",
              " 'Sprite (small)',\n",
              " 'Sprite (medium)',\n",
              " 'Sprite (large)',\n",
              " 'H-C Orange Drink (small)',\n",
              " 'H-C Orange Drink (medium)',\n",
              " 'H-C Orange Drink (large)']"
            ]
          },
          "metadata": {
            "tags": []
          },
          "execution_count": 12
        }
      ]
    },
    {
      "cell_type": "code",
      "metadata": {
        "id": "VOOAANnGHExQ"
      },
      "source": [
        "MenuItems_vars = p.LpVariable.dicts(\"MenuItems\",MenuItems,lowBound=0,\n",
        "   upBound=10,cat='Integer')"
      ],
      "execution_count": null,
      "outputs": []
    },
    {
      "cell_type": "code",
      "metadata": {
        "id": "lgxZDptE5DUc"
      },
      "source": [
        "# Convert all of the macro nutrients fields to be dictionaries of the item names\n",
        "cost = Mcdata.set_index('Name')['cost'].to_dict()\n",
        "Cal = Mcdata.set_index('Name')['Cal'].to_dict()\n",
        "CalFat =  Mcdata.set_index('Name')['CalFat'].to_dict()\n",
        "Fat =  Mcdata.set_index('Name')['Fat'].to_dict()\n",
        "SatFat =  Mcdata.set_index('Name')['SatFat'].to_dict()\n",
        "Chol = Mcdata.set_index('Name')['Chol'].to_dict()\n",
        "Sodium =  Mcdata.set_index('Name')['Sodium'].to_dict()\n",
        "Carbo =  Mcdata.set_index('Name')['Carbo'].to_dict()\n",
        "Protein = Mcdata.set_index('Name')['Protein'].to_dict()\n",
        "VitA =  Mcdata.set_index('Name')['VitA'].to_dict()\n",
        "VitC = Mcdata.set_index('Name')['VitC'].to_dict()\n",
        "Calcium =  Mcdata.set_index('Name')['Calcium'].to_dict()\n",
        "Iron =  Mcdata.set_index('Name')['Iron'].to_dict()"
      ],
      "execution_count": null,
      "outputs": []
    },
    {
      "cell_type": "code",
      "metadata": {
        "id": "YU6GF9CcG7W1"
      },
      "source": [
        "# Set it up as a minimization problem\n",
        "prob = p.LpProblem(\"McOptimization_Problem\", p.LpMinimize)"
      ],
      "execution_count": null,
      "outputs": []
    },
    {
      "cell_type": "code",
      "metadata": {
        "id": "g1K8fVBgHhTJ"
      },
      "source": [
        "# First entry is the cost calculation (this is our objective)\n",
        "prob += p.lpSum([cost[i]*MenuItems_vars[i] for i in MenuItems]),\"cost\""
      ],
      "execution_count": null,
      "outputs": []
    },
    {
      "cell_type": "code",
      "metadata": {
        "id": "9-UKp8N-YYDe"
      },
      "source": [
        "Sauces=['Barbeque Sauce', \"Sweet & Sour Sauce\" ,'Hot Mustard Sauce','Honey']\n",
        "Drinks=['Vanilla Shake' ,'Chocolate Shake',\n",
        "     'Strawberry Shake' ,'1% Lowfat Milk', 'Orange Juice',\n",
        "     'Coca-Cola (small)' ,'Coca-Cola (medium)', 'Coca-Cola (large)' ,\n",
        "     'Diet Coke (small)' ,'Diet Coke (medium)', 'Diet Coke (large)', \n",
        "     'Sprite (small)', 'Sprite (medium)', 'Sprite (large)',\n",
        "     'H-C Orange Drink (small)', 'H-C Orange Drink (medium)', \n",
        "     'H-C Orange Drink (large)']"
      ],
      "execution_count": null,
      "outputs": []
    },
    {
      "cell_type": "code",
      "metadata": {
        "id": "tqhLbLNdkZxN"
      },
      "source": [
        "#Sauces were limited to maximum two packs per day\n",
        "prob+=p.lpSum([MenuItems_vars[i] for i in Sauces])<=2,'Saucelimit'"
      ],
      "execution_count": null,
      "outputs": []
    },
    {
      "cell_type": "code",
      "metadata": {
        "id": "7A0jtx3vngT_"
      },
      "source": [
        "#Drinks were limited to maximum three per day\n",
        "prob+=p.lpSum([MenuItems_vars[i] for i in Drinks])<=3,'Drinklimit'"
      ],
      "execution_count": null,
      "outputs": []
    },
    {
      "cell_type": "code",
      "metadata": {
        "id": "AvGNExJbDWHA"
      },
      "source": [
        "#cal must be >= 2000 calories\n",
        "prob += p.lpSum([Cal[i]*MenuItems_vars[i] for i in MenuItems]) >=2000, \"Cal\""
      ],
      "execution_count": null,
      "outputs": []
    },
    {
      "cell_type": "code",
      "metadata": {
        "id": "yQqgD5BKB0AU"
      },
      "source": [
        "# Total Fat must be <= 100 g\n",
        "prob += p.lpSum([Fat[i]*MenuItems_vars[i] for i in MenuItems]) <=100, \"Fat\""
      ],
      "execution_count": null,
      "outputs": []
    },
    {
      "cell_type": "code",
      "metadata": {
        "id": "AQR0HeWUB8bf"
      },
      "source": [
        "# Saturated Fat must be <= 30 g\n",
        "prob += p.lpSum([SatFat[i]*MenuItems_vars[i] for i in MenuItems]) <= 30, \"Saturated Fat\""
      ],
      "execution_count": null,
      "outputs": []
    },
    {
      "cell_type": "code",
      "metadata": {
        "id": "8MVIKfo2D2Rt"
      },
      "source": [
        "#Cholestrol must be <= 375 mg\n",
        "prob += p.lpSum([Chol[i]*MenuItems_vars[i] for i in MenuItems]) <= 375, \"Cholestrol\""
      ],
      "execution_count": null,
      "outputs": []
    },
    {
      "cell_type": "code",
      "metadata": {
        "id": "ZZmsEitzCApb"
      },
      "source": [
        "# Carbohydrates must be between 350-375g g\n",
        "prob += p.lpSum([Carbo[i]*MenuItems_vars[i] for i in MenuItems]) >= 350, \"Carbo_lower\"\n",
        "prob += p.lpSum([Carbo[i]*MenuItems_vars[i] for i in MenuItems]) <= 375, \"Carbo_upper\""
      ],
      "execution_count": null,
      "outputs": []
    },
    {
      "cell_type": "code",
      "metadata": {
        "id": "MnsVGEEiCzkx"
      },
      "source": [
        "# Protein must be >= 55 g\n",
        "prob += p.lpSum([Protein[i]*MenuItems_vars[i] for i in MenuItems]) >= 55, \"Protein\""
      ],
      "execution_count": null,
      "outputs": []
    },
    {
      "cell_type": "code",
      "metadata": {
        "id": "1SStwbcD-NQT"
      },
      "source": [
        "# Sodium <= 6000 mg\n",
        "prob += p.lpSum([Sodium[i]*MenuItems_vars[i] for i in MenuItems]) <= 3000, \"Sodium\""
      ],
      "execution_count": null,
      "outputs": []
    },
    {
      "cell_type": "code",
      "metadata": {
        "id": "lAMhvk1NCAD8"
      },
      "source": [
        "#VitA must be >= 100 percent\n",
        "prob += p.lpSum([VitA[i]*MenuItems_vars[i] for i in MenuItems]) >= 100, \"Vitamin A\""
      ],
      "execution_count": null,
      "outputs": []
    },
    {
      "cell_type": "code",
      "metadata": {
        "id": "6dFOZ5UzB_7J"
      },
      "source": [
        "#VitC must be >= 100 percent\n",
        "prob += p.lpSum([VitC[i]*MenuItems_vars[i] for i in MenuItems]) >= 100, \"Vitamin C\""
      ],
      "execution_count": null,
      "outputs": []
    },
    {
      "cell_type": "code",
      "metadata": {
        "id": "Pf8wN0ABEurA"
      },
      "source": [
        "#Calcuim must be >= 100 percent\n",
        "prob += p.lpSum([Calcium[i]*MenuItems_vars[i] for i in MenuItems]) >= 100, \"Calcuim\""
      ],
      "execution_count": null,
      "outputs": []
    },
    {
      "cell_type": "code",
      "metadata": {
        "id": "fil5B2YTE2p3"
      },
      "source": [
        "#iron must be >= 100 percent\n",
        "prob += p.lpSum([Iron[i]*MenuItems_vars[i] for i in MenuItems]) >= 100, \"Iron\""
      ],
      "execution_count": null,
      "outputs": []
    },
    {
      "cell_type": "code",
      "metadata": {
        "id": "JrkbrpueIzZT",
        "colab": {
          "base_uri": "https://localhost:8080/"
        },
        "outputId": "d8ec401c-bf37-45ba-b53e-e848100ff214"
      },
      "source": [
        "print(prob)"
      ],
      "execution_count": null,
      "outputs": [
        {
          "output_type": "stream",
          "text": [
            "McOptimization_Problem:\n",
            "MINIMIZE\n",
            "0.6*MenuItems_1%_Lowfat_Milk + 0.84*MenuItems_Apple_Danish + 1.49*MenuItems_Bacon,_Egg_&_Cheese_Biscuit + 0.99*MenuItems_Breakfast_Burrito + 1.09*MenuItems_Cheerios + 0.84*MenuItems_Cheese_Danish + 0.69*MenuItems_Cheeseburger + 2.94*MenuItems_Chef_Salad + 4.49*MenuItems_Chicken_Nuggets_(20_pcs) + 1.69*MenuItems_Chicken_Nuggets_(6_pcs) + 2.34*MenuItems_Chicken_Nuggets_(9_pcs) + 1.09*MenuItems_Chocolate_Shake + 0.89*MenuItems_Cinnamon_Raisin_Danish + 1.17*MenuItems_Coca_Cola_(large) + 0.99*MenuItems_Coca_Cola_(medium) + 0.88*MenuItems_Coca_Cola_(small) + 1.17*MenuItems_Diet_Coke_(large) + 0.99*MenuItems_Diet_Coke_(medium) + 0.88*MenuItems_Diet_Coke_(small) + 1.44*MenuItems_Fish_Filet_Sandwich + 2.99*MenuItems_Fried_Chicken_Salad + 2.04*MenuItems_Fried_Chicken_Sandwich + 1.17*MenuItems_Fries,_large + 1.49*MenuItems_Fries,_optimal + 0.77*MenuItems_Fries,_small + 1.99*MenuItems_Garden_Salad + 1.84*MenuItems_Global_Maximum + 2.29*MenuItems_Grilled_Chicken_Sandwich + 1.17*MenuItems_H_C_Orange_Drink_(large) + 0.99*MenuItems_H_C_Orange_Drink_(medium) + 0.88*MenuItems_H_C_Orange_Drink_(small) + 0.59*MenuItems_Hamburger + 0.69*MenuItems_Hash_Browns + 2.09*MenuItems_Local_Minimum + 2.19*MenuItems_Local_Minimum_with_Cheese + 0.79*MenuItems_Lowfat_Frozen_Yogurt_Cone + 0.72*MenuItems_Orange_Juice + 1.84*MenuItems_Quarter_Pound_Cheeseburger + 0.84*MenuItems_Raspberry_Danish + 0.79*MenuItems_Sausage_Biscuit + 1.49*MenuItems_Sausage_Biscuit_with_Egg + 1.39*MenuItems_Side_Salad + 1.17*MenuItems_Sprite_(large) + 0.99*MenuItems_Sprite_(medium) + 0.88*MenuItems_Sprite_(small) + 1.09*MenuItems_Strawberry_Shake + 0.84*MenuItems_Toasted_English_Muffin + 1.49*MenuItems_Toasted_with_Egg + 1.29*MenuItems_Toasted_with_Sausage + 1.49*MenuItems_Toasted_with_Sausage_&_Egg + 1.09*MenuItems_Vanilla_Shake + 1.09*MenuItems_Wheaties + 0.0\n",
            "SUBJECT TO\n",
            "Saucelimit: MenuItems_Barbeque_Sauce + MenuItems_Honey\n",
            " + MenuItems_Hot_Mustard_Sauce + MenuItems_Sweet_&_Sour_Sauce <= 2\n",
            "\n",
            "Drinklimit: MenuItems_1%_Lowfat_Milk + MenuItems_Chocolate_Shake\n",
            " + MenuItems_Coca_Cola_(large) + MenuItems_Coca_Cola_(medium)\n",
            " + MenuItems_Coca_Cola_(small) + MenuItems_Diet_Coke_(large)\n",
            " + MenuItems_Diet_Coke_(medium) + MenuItems_Diet_Coke_(small)\n",
            " + MenuItems_H_C_Orange_Drink_(large) + MenuItems_H_C_Orange_Drink_(medium)\n",
            " + MenuItems_H_C_Orange_Drink_(small) + MenuItems_Orange_Juice\n",
            " + MenuItems_Sprite_(large) + MenuItems_Sprite_(medium)\n",
            " + MenuItems_Sprite_(small) + MenuItems_Strawberry_Shake\n",
            " + MenuItems_Vanilla_Shake <= 3\n",
            "\n",
            "Cal: 110 MenuItems_1%_Lowfat_Milk + 225 MenuItems_1000_Island_Dressing\n",
            " + 360 MenuItems_Apple_Danish + 440 MenuItems_Bacon,_Egg_&_Cheese_Biscuit\n",
            " + 15 MenuItems_Bacon_Bits + 50 MenuItems_Barbeque_Sauce\n",
            " + 250 MenuItems_Bleu_Cheese_Dressing + 280 MenuItems_Breakfast_Burrito\n",
            " + 80 MenuItems_Cheerios + 400 MenuItems_Cheese_Danish\n",
            " + 305 MenuItems_Cheeseburger + 170 MenuItems_Chef_Salad\n",
            " + 900 MenuItems_Chicken_Nuggets_(20_pcs)\n",
            " + 270 MenuItems_Chicken_Nuggets_(6_pcs)\n",
            " + 405 MenuItems_Chicken_Nuggets_(9_pcs) + 350 MenuItems_Chocolate_Shake\n",
            " + 430 MenuItems_Cinnamon_Raisin_Danish + 300 MenuItems_Coca_Cola_(large)\n",
            " + 205 MenuItems_Coca_Cola_(medium) + 145 MenuItems_Coca_Cola_(small)\n",
            " + 50 MenuItems_Croutons + 3 MenuItems_Diet_Coke_(large)\n",
            " + 2 MenuItems_Diet_Coke_(medium) + MenuItems_Diet_Coke_(small)\n",
            " + 370 MenuItems_Fish_Filet_Sandwich\n",
            " + 160 MenuItems_French_Reduced_Cal_Dressing\n",
            " + 150 MenuItems_Fried_Chicken_Salad + 470 MenuItems_Fried_Chicken_Sandwich\n",
            " + 400 MenuItems_Fries,_large + 620 MenuItems_Fries,_optimal\n",
            " + 220 MenuItems_Fries,_small + 50 MenuItems_Garden_Salad\n",
            " + 500 MenuItems_Global_Maximum + 400 MenuItems_Grilled_Chicken_Sandwich\n",
            " + 350 MenuItems_H_C_Orange_Drink_(large)\n",
            " + 240 MenuItems_H_C_Orange_Drink_(medium)\n",
            " + 160 MenuItems_H_C_Orange_Drink_(small) + 255 MenuItems_Hamburger\n",
            " + 130 MenuItems_Hash_Browns + 45 MenuItems_Honey\n",
            " + 70 MenuItems_Hot_Mustard_Sauce + 50 MenuItems_Lite_Vinaigrette_Dressing\n",
            " + 320 MenuItems_Local_Minimum + 370 MenuItems_Local_Minimum_with_Cheese\n",
            " + 110 MenuItems_Lowfat_Frozen_Yogurt_Cone + 80 MenuItems_Orange_Juice\n",
            " + 510 MenuItems_Quarter_Pound_Cheeseburger + 220 MenuItems_Ranch_Dressing\n",
            " + 390 MenuItems_Raspberry_Danish + 420 MenuItems_Sausage_Biscuit\n",
            " + 505 MenuItems_Sausage_Biscuit_with_Egg + 30 MenuItems_Side_Salad\n",
            " + 300 MenuItems_Sprite_(large) + 205 MenuItems_Sprite_(medium)\n",
            " + 140 MenuItems_Sprite_(small) + 340 MenuItems_Strawberry_Shake\n",
            " + 60 MenuItems_Sweet_&_Sour_Sauce + 170 MenuItems_Toasted_English_Muffin\n",
            " + 280 MenuItems_Toasted_with_Egg + 345 MenuItems_Toasted_with_Sausage\n",
            " + 430 MenuItems_Toasted_with_Sausage_&_Egg + 310 MenuItems_Vanilla_Shake\n",
            " + 90 MenuItems_Wheaties >= 2000\n",
            "\n",
            "Fat: 2 MenuItems_1%_Lowfat_Milk + 15 MenuItems_1000_Island_Dressing\n",
            " + 16 MenuItems_Apple_Danish + 26 MenuItems_Bacon,_Egg_&_Cheese_Biscuit\n",
            " + MenuItems_Bacon_Bits + 0.5 MenuItems_Barbeque_Sauce\n",
            " + 20 MenuItems_Bleu_Cheese_Dressing + 17 MenuItems_Breakfast_Burrito\n",
            " + MenuItems_Cheerios + 22 MenuItems_Cheese_Danish + 13 MenuItems_Cheeseburger\n",
            " + 9 MenuItems_Chef_Salad + 49 MenuItems_Chicken_Nuggets_(20_pcs)\n",
            " + 15 MenuItems_Chicken_Nuggets_(6_pcs) + 22 MenuItems_Chicken_Nuggets_(9_pcs)\n",
            " + 6 MenuItems_Chocolate_Shake + 22 MenuItems_Cinnamon_Raisin_Danish\n",
            " + 2 MenuItems_Croutons + 18 MenuItems_Fish_Filet_Sandwich\n",
            " + 8 MenuItems_French_Reduced_Cal_Dressing + 4 MenuItems_Fried_Chicken_Salad\n",
            " + 25 MenuItems_Fried_Chicken_Sandwich + 22 MenuItems_Fries,_large\n",
            " + 34 MenuItems_Fries,_optimal + 12 MenuItems_Fries,_small\n",
            " + 2 MenuItems_Garden_Salad + 26 MenuItems_Global_Maximum\n",
            " + 12 MenuItems_Grilled_Chicken_Sandwich + 9 MenuItems_Hamburger\n",
            " + 7 MenuItems_Hash_Browns + 3.5 MenuItems_Hot_Mustard_Sauce\n",
            " + 2 MenuItems_Lite_Vinaigrette_Dressing + 10 MenuItems_Local_Minimum\n",
            " + 14 MenuItems_Local_Minimum_with_Cheese\n",
            " + MenuItems_Lowfat_Frozen_Yogurt_Cone\n",
            " + 28 MenuItems_Quarter_Pound_Cheeseburger + 20 MenuItems_Ranch_Dressing\n",
            " + 16 MenuItems_Raspberry_Danish + 28 MenuItems_Sausage_Biscuit\n",
            " + 33 MenuItems_Sausage_Biscuit_with_Egg + MenuItems_Side_Salad\n",
            " + 5 MenuItems_Strawberry_Shake + 4 MenuItems_Toasted_English_Muffin\n",
            " + 11 MenuItems_Toasted_with_Egg + 20 MenuItems_Toasted_with_Sausage\n",
            " + 25 MenuItems_Toasted_with_Sausage_&_Egg + 5 MenuItems_Vanilla_Shake\n",
            " + MenuItems_Wheaties <= 100\n",
            "\n",
            "Saturated_Fat: 1.5 MenuItems_1%_Lowfat_Milk + 5 MenuItems_1000_Island_Dressing\n",
            " + 5 MenuItems_Apple_Danish + 8 MenuItems_Bacon,_Egg_&_Cheese_Biscuit\n",
            " + 0.5 MenuItems_Bacon_Bits + 5 MenuItems_Bleu_Cheese_Dressing\n",
            " + 4 MenuItems_Breakfast_Burrito + 8 MenuItems_Cheese_Danish\n",
            " + 5 MenuItems_Cheeseburger + 4 MenuItems_Chef_Salad\n",
            " + 11 MenuItems_Chicken_Nuggets_(20_pcs)\n",
            " + 3.5 MenuItems_Chicken_Nuggets_(6_pcs) + 5 MenuItems_Chicken_Nuggets_(9_pcs)\n",
            " + 4 MenuItems_Chocolate_Shake + 7 MenuItems_Cinnamon_Raisin_Danish\n",
            " + 0.5 MenuItems_Croutons + 4 MenuItems_Fish_Filet_Sandwich\n",
            " + MenuItems_French_Reduced_Cal_Dressing + MenuItems_Fried_Chicken_Salad\n",
            " + 5 MenuItems_Fried_Chicken_Sandwich + 5 MenuItems_Fries,_large\n",
            " + 7.5 MenuItems_Fries,_optimal + 2.5 MenuItems_Fries,_small\n",
            " + 0.5 MenuItems_Garden_Salad + 9 MenuItems_Global_Maximum\n",
            " + 4 MenuItems_Grilled_Chicken_Sandwich + 3 MenuItems_Hamburger\n",
            " + MenuItems_Hash_Browns + 0.5 MenuItems_Hot_Mustard_Sauce\n",
            " + 0.5 MenuItems_Lite_Vinaigrette_Dressing + 4 MenuItems_Local_Minimum\n",
            " + 5 MenuItems_Local_Minimum_with_Cheese\n",
            " + 0.5 MenuItems_Lowfat_Frozen_Yogurt_Cone\n",
            " + 11 MenuItems_Quarter_Pound_Cheeseburger + 4 MenuItems_Ranch_Dressing\n",
            " + 5 MenuItems_Raspberry_Danish + 8 MenuItems_Sausage_Biscuit\n",
            " + 10 MenuItems_Sausage_Biscuit_with_Egg + 0.5 MenuItems_Side_Salad\n",
            " + 3 MenuItems_Strawberry_Shake + MenuItems_Toasted_English_Muffin\n",
            " + 4 MenuItems_Toasted_with_Egg + 7 MenuItems_Toasted_with_Sausage\n",
            " + 8 MenuItems_Toasted_with_Sausage_&_Egg + 3 MenuItems_Vanilla_Shake <= 30\n",
            "\n",
            "Cholestrol: 10 MenuItems_1%_Lowfat_Milk + 40 MenuItems_1000_Island_Dressing\n",
            " + 40 MenuItems_Apple_Danish + 240 MenuItems_Bacon,_Egg_&_Cheese_Biscuit\n",
            " + MenuItems_Bacon_Bits + 35 MenuItems_Bleu_Cheese_Dressing\n",
            " + 135 MenuItems_Breakfast_Burrito + 70 MenuItems_Cheese_Danish\n",
            " + 50 MenuItems_Cheeseburger + 110 MenuItems_Chef_Salad\n",
            " + 189 MenuItems_Chicken_Nuggets_(20_pcs)\n",
            " + 55 MenuItems_Chicken_Nuggets_(6_pcs) + 85 MenuItems_Chicken_Nuggets_(9_pcs)\n",
            " + 25 MenuItems_Chocolate_Shake + 50 MenuItems_Cinnamon_Raisin_Danish\n",
            " + 50 MenuItems_Fish_Filet_Sandwich + 80 MenuItems_Fried_Chicken_Salad\n",
            " + 60 MenuItems_Fried_Chicken_Sandwich + 65 MenuItems_Garden_Salad\n",
            " + 100 MenuItems_Global_Maximum + 80 MenuItems_Grilled_Chicken_Sandwich\n",
            " + 35 MenuItems_Hamburger + 5 MenuItems_Hot_Mustard_Sauce\n",
            " + 60 MenuItems_Local_Minimum + 75 MenuItems_Local_Minimum_with_Cheese\n",
            " + 5 MenuItems_Lowfat_Frozen_Yogurt_Cone\n",
            " + 115 MenuItems_Quarter_Pound_Cheeseburger + 20 MenuItems_Ranch_Dressing\n",
            " + 45 MenuItems_Raspberry_Danish + 45 MenuItems_Sausage_Biscuit\n",
            " + 260 MenuItems_Sausage_Biscuit_with_Egg + 30 MenuItems_Side_Salad\n",
            " + 25 MenuItems_Strawberry_Shake + 235 MenuItems_Toasted_with_Egg\n",
            " + 60 MenuItems_Toasted_with_Sausage\n",
            " + 270 MenuItems_Toasted_with_Sausage_&_Egg + 25 MenuItems_Vanilla_Shake\n",
            " <= 375\n",
            "\n",
            "Carbo_lower: 12 MenuItems_1%_Lowfat_Milk + 20 MenuItems_1000_Island_Dressing\n",
            " + 50 MenuItems_Apple_Danish + 33 MenuItems_Bacon,_Egg_&_Cheese_Biscuit\n",
            " + 12 MenuItems_Barbeque_Sauce + 5 MenuItems_Bleu_Cheese_Dressing\n",
            " + 21 MenuItems_Breakfast_Burrito + 14 MenuItems_Cheerios\n",
            " + 45 MenuItems_Cheese_Danish + 30 MenuItems_Cheeseburger\n",
            " + 8 MenuItems_Chef_Salad + 56 MenuItems_Chicken_Nuggets_(20_pcs)\n",
            " + 17 MenuItems_Chicken_Nuggets_(6_pcs) + 25 MenuItems_Chicken_Nuggets_(9_pcs)\n",
            " + 62 MenuItems_Chocolate_Shake + 55 MenuItems_Cinnamon_Raisin_Danish\n",
            " + 82 MenuItems_Coca_Cola_(large) + 55 MenuItems_Coca_Cola_(medium)\n",
            " + 38 MenuItems_Coca_Cola_(small) + 7 MenuItems_Croutons\n",
            " + 0.5 MenuItems_Diet_Coke_(large) + 0.5 MenuItems_Diet_Coke_(medium)\n",
            " + 38 MenuItems_Fish_Filet_Sandwich + 20 MenuItems_French_Reduced_Cal_Dressing\n",
            " + 7 MenuItems_Fried_Chicken_Salad + 42 MenuItems_Fried_Chicken_Sandwich\n",
            " + 46 MenuItems_Fries,_large + 72 MenuItems_Fries,_optimal\n",
            " + 26 MenuItems_Fries,_small + 6 MenuItems_Garden_Salad\n",
            " + 42 MenuItems_Global_Maximum + 42 MenuItems_Grilled_Chicken_Sandwich\n",
            " + 89 MenuItems_H_C_Orange_Drink_(large)\n",
            " + 60 MenuItems_H_C_Orange_Drink_(medium)\n",
            " + 42 MenuItems_H_C_Orange_Drink_(small) + 30 MenuItems_Hamburger\n",
            " + 15 MenuItems_Hash_Browns + 12 MenuItems_Honey\n",
            " + 8 MenuItems_Hot_Mustard_Sauce + 10 MenuItems_Lite_Vinaigrette_Dressing\n",
            " + 35 MenuItems_Local_Minimum + 35 MenuItems_Local_Minimum_with_Cheese\n",
            " + 22 MenuItems_Lowfat_Frozen_Yogurt_Cone + 20 MenuItems_Orange_Juice\n",
            " + 34 MenuItems_Quarter_Pound_Cheeseburger + 5 MenuItems_Ranch_Dressing\n",
            " + 58 MenuItems_Raspberry_Danish + 32 MenuItems_Sausage_Biscuit\n",
            " + 33 MenuItems_Sausage_Biscuit_with_Egg + 4 MenuItems_Side_Salad\n",
            " + 78 MenuItems_Sprite_(large) + 53 MenuItems_Sprite_(medium)\n",
            " + 37 MenuItems_Sprite_(small) + 63 MenuItems_Strawberry_Shake\n",
            " + 14 MenuItems_Sweet_&_Sour_Sauce + 26 MenuItems_Toasted_English_Muffin\n",
            " + 28 MenuItems_Toasted_with_Egg + 27 MenuItems_Toasted_with_Sausage\n",
            " + 27 MenuItems_Toasted_with_Sausage_&_Egg + 55 MenuItems_Vanilla_Shake\n",
            " + 19 MenuItems_Wheaties >= 350\n",
            "\n",
            "Carbo_upper: 12 MenuItems_1%_Lowfat_Milk + 20 MenuItems_1000_Island_Dressing\n",
            " + 50 MenuItems_Apple_Danish + 33 MenuItems_Bacon,_Egg_&_Cheese_Biscuit\n",
            " + 12 MenuItems_Barbeque_Sauce + 5 MenuItems_Bleu_Cheese_Dressing\n",
            " + 21 MenuItems_Breakfast_Burrito + 14 MenuItems_Cheerios\n",
            " + 45 MenuItems_Cheese_Danish + 30 MenuItems_Cheeseburger\n",
            " + 8 MenuItems_Chef_Salad + 56 MenuItems_Chicken_Nuggets_(20_pcs)\n",
            " + 17 MenuItems_Chicken_Nuggets_(6_pcs) + 25 MenuItems_Chicken_Nuggets_(9_pcs)\n",
            " + 62 MenuItems_Chocolate_Shake + 55 MenuItems_Cinnamon_Raisin_Danish\n",
            " + 82 MenuItems_Coca_Cola_(large) + 55 MenuItems_Coca_Cola_(medium)\n",
            " + 38 MenuItems_Coca_Cola_(small) + 7 MenuItems_Croutons\n",
            " + 0.5 MenuItems_Diet_Coke_(large) + 0.5 MenuItems_Diet_Coke_(medium)\n",
            " + 38 MenuItems_Fish_Filet_Sandwich + 20 MenuItems_French_Reduced_Cal_Dressing\n",
            " + 7 MenuItems_Fried_Chicken_Salad + 42 MenuItems_Fried_Chicken_Sandwich\n",
            " + 46 MenuItems_Fries,_large + 72 MenuItems_Fries,_optimal\n",
            " + 26 MenuItems_Fries,_small + 6 MenuItems_Garden_Salad\n",
            " + 42 MenuItems_Global_Maximum + 42 MenuItems_Grilled_Chicken_Sandwich\n",
            " + 89 MenuItems_H_C_Orange_Drink_(large)\n",
            " + 60 MenuItems_H_C_Orange_Drink_(medium)\n",
            " + 42 MenuItems_H_C_Orange_Drink_(small) + 30 MenuItems_Hamburger\n",
            " + 15 MenuItems_Hash_Browns + 12 MenuItems_Honey\n",
            " + 8 MenuItems_Hot_Mustard_Sauce + 10 MenuItems_Lite_Vinaigrette_Dressing\n",
            " + 35 MenuItems_Local_Minimum + 35 MenuItems_Local_Minimum_with_Cheese\n",
            " + 22 MenuItems_Lowfat_Frozen_Yogurt_Cone + 20 MenuItems_Orange_Juice\n",
            " + 34 MenuItems_Quarter_Pound_Cheeseburger + 5 MenuItems_Ranch_Dressing\n",
            " + 58 MenuItems_Raspberry_Danish + 32 MenuItems_Sausage_Biscuit\n",
            " + 33 MenuItems_Sausage_Biscuit_with_Egg + 4 MenuItems_Side_Salad\n",
            " + 78 MenuItems_Sprite_(large) + 53 MenuItems_Sprite_(medium)\n",
            " + 37 MenuItems_Sprite_(small) + 63 MenuItems_Strawberry_Shake\n",
            " + 14 MenuItems_Sweet_&_Sour_Sauce + 26 MenuItems_Toasted_English_Muffin\n",
            " + 28 MenuItems_Toasted_with_Egg + 27 MenuItems_Toasted_with_Sausage\n",
            " + 27 MenuItems_Toasted_with_Sausage_&_Egg + 55 MenuItems_Vanilla_Shake\n",
            " + 19 MenuItems_Wheaties <= 375\n",
            "\n",
            "Protein: 9 MenuItems_1%_Lowfat_Milk + 4 MenuItems_Apple_Danish\n",
            " + 15 MenuItems_Bacon,_Egg_&_Cheese_Biscuit + MenuItems_Bacon_Bits\n",
            " + 12 MenuItems_Breakfast_Burrito + 3 MenuItems_Cheerios\n",
            " + 7 MenuItems_Cheese_Danish + 15 MenuItems_Cheeseburger\n",
            " + 17 MenuItems_Chef_Salad + 67 MenuItems_Chicken_Nuggets_(20_pcs)\n",
            " + 20 MenuItems_Chicken_Nuggets_(6_pcs) + 30 MenuItems_Chicken_Nuggets_(9_pcs)\n",
            " + 13 MenuItems_Chocolate_Shake + 5 MenuItems_Cinnamon_Raisin_Danish\n",
            " + MenuItems_Croutons + 14 MenuItems_Fish_Filet_Sandwich\n",
            " + 25 MenuItems_Fried_Chicken_Salad + 19 MenuItems_Fried_Chicken_Sandwich\n",
            " + 6 MenuItems_Fries,_large + 9 MenuItems_Fries,_optimal\n",
            " + 3 MenuItems_Fries,_small + 4 MenuItems_Garden_Salad\n",
            " + 25 MenuItems_Global_Maximum + 31 MenuItems_Grilled_Chicken_Sandwich\n",
            " + 12 MenuItems_Hamburger + MenuItems_Hash_Browns + 22 MenuItems_Local_Minimum\n",
            " + 24 MenuItems_Local_Minimum_with_Cheese\n",
            " + 4 MenuItems_Lowfat_Frozen_Yogurt_Cone + MenuItems_Orange_Juice\n",
            " + 28 MenuItems_Quarter_Pound_Cheeseburger + 5 MenuItems_Raspberry_Danish\n",
            " + 12 MenuItems_Sausage_Biscuit + 19 MenuItems_Sausage_Biscuit_with_Egg\n",
            " + 2 MenuItems_Side_Salad + 12 MenuItems_Strawberry_Shake\n",
            " + 5 MenuItems_Toasted_English_Muffin + 18 MenuItems_Toasted_with_Egg\n",
            " + 15 MenuItems_Toasted_with_Sausage + 21 MenuItems_Toasted_with_Sausage_&_Egg\n",
            " + 12 MenuItems_Vanilla_Shake + 2 MenuItems_Wheaties >= 55\n",
            "\n",
            "Sodium: 130 MenuItems_1%_Lowfat_Milk + 500 MenuItems_1000_Island_Dressing\n",
            " + 290 MenuItems_Apple_Danish + 1215 MenuItems_Bacon,_Egg_&_Cheese_Biscuit\n",
            " + 95 MenuItems_Bacon_Bits + 340 MenuItems_Barbeque_Sauce\n",
            " + 750 MenuItems_Bleu_Cheese_Dressing + 580 MenuItems_Breakfast_Burrito\n",
            " + 210 MenuItems_Cheerios + 330 MenuItems_Cheese_Danish\n",
            " + 725 MenuItems_Cheeseburger + 400 MenuItems_Chef_Salad\n",
            " + 1933 MenuItems_Chicken_Nuggets_(20_pcs)\n",
            " + 580 MenuItems_Chicken_Nuggets_(6_pcs)\n",
            " + 870 MenuItems_Chicken_Nuggets_(9_pcs) + 240 MenuItems_Chocolate_Shake\n",
            " + 280 MenuItems_Cinnamon_Raisin_Danish + 30 MenuItems_Coca_Cola_(large)\n",
            " + 20 MenuItems_Coca_Cola_(medium) + 15 MenuItems_Coca_Cola_(small)\n",
            " + 140 MenuItems_Croutons + 35 MenuItems_Diet_Coke_(large)\n",
            " + 25 MenuItems_Diet_Coke_(medium) + 20 MenuItems_Diet_Coke_(small)\n",
            " + 730 MenuItems_Fish_Filet_Sandwich\n",
            " + 460 MenuItems_French_Reduced_Cal_Dressing\n",
            " + 230 MenuItems_Fried_Chicken_Salad + 830 MenuItems_Fried_Chicken_Sandwich\n",
            " + 200 MenuItems_Fries,_large + 310 MenuItems_Fries,_optimal\n",
            " + 110 MenuItems_Fries,_small + 70 MenuItems_Garden_Salad\n",
            " + 890 MenuItems_Global_Maximum + 680 MenuItems_Grilled_Chicken_Sandwich\n",
            " + 75 MenuItems_H_C_Orange_Drink_(large)\n",
            " + 50 MenuItems_H_C_Orange_Drink_(medium)\n",
            " + 35 MenuItems_H_C_Orange_Drink_(small) + 490 MenuItems_Hamburger\n",
            " + 330 MenuItems_Hash_Browns + 250 MenuItems_Hot_Mustard_Sauce\n",
            " + 240 MenuItems_Lite_Vinaigrette_Dressing + 670 MenuItems_Local_Minimum\n",
            " + 890 MenuItems_Local_Minimum_with_Cheese\n",
            " + 80 MenuItems_Lowfat_Frozen_Yogurt_Cone + 20 MenuItems_Orange_Juice\n",
            " + 1110 MenuItems_Quarter_Pound_Cheeseburger + 520 MenuItems_Ranch_Dressing\n",
            " + 290 MenuItems_Raspberry_Danish + 1040 MenuItems_Sausage_Biscuit\n",
            " + 1210 MenuItems_Sausage_Biscuit_with_Egg + 35 MenuItems_Side_Salad\n",
            " + 70 MenuItems_Sprite_(large) + 50 MenuItems_Sprite_(medium)\n",
            " + 35 MenuItems_Sprite_(small) + 170 MenuItems_Strawberry_Shake\n",
            " + 190 MenuItems_Sweet_&_Sour_Sauce + 285 MenuItems_Toasted_English_Muffin\n",
            " + 710 MenuItems_Toasted_with_Egg + 770 MenuItems_Toasted_with_Sausage\n",
            " + 920 MenuItems_Toasted_with_Sausage_&_Egg + 170 MenuItems_Vanilla_Shake\n",
            " + 220 MenuItems_Wheaties <= 3000\n",
            "\n",
            "Vitamin_A: 10 MenuItems_1%_Lowfat_Milk + 8 MenuItems_Apple_Danish\n",
            " + 10 MenuItems_Bacon,_Egg_&_Cheese_Biscuit + 4 MenuItems_Barbeque_Sauce\n",
            " + 10 MenuItems_Breakfast_Burrito + 15 MenuItems_Cheerios\n",
            " + 10 MenuItems_Cheese_Danish + 8 MenuItems_Cheeseburger\n",
            " + 100 MenuItems_Chef_Salad + 4 MenuItems_Chocolate_Shake\n",
            " + 8 MenuItems_Cinnamon_Raisin_Danish + 2 MenuItems_Fish_Filet_Sandwich\n",
            " + 170 MenuItems_Fried_Chicken_Salad + 2 MenuItems_Fried_Chicken_Sandwich\n",
            " + 90 MenuItems_Garden_Salad + 6 MenuItems_Global_Maximum\n",
            " + 8 MenuItems_Grilled_Chicken_Sandwich + 4 MenuItems_Hamburger\n",
            " + 10 MenuItems_Local_Minimum + 15 MenuItems_Local_Minimum_with_Cheese\n",
            " + 2 MenuItems_Lowfat_Frozen_Yogurt_Cone + 2 MenuItems_Orange_Juice\n",
            " + 15 MenuItems_Quarter_Pound_Cheeseburger + 8 MenuItems_Raspberry_Danish\n",
            " + 6 MenuItems_Sausage_Biscuit_with_Egg + 80 MenuItems_Side_Salad\n",
            " + 4 MenuItems_Strawberry_Shake + 6 MenuItems_Sweet_&_Sour_Sauce\n",
            " + 2 MenuItems_Toasted_English_Muffin + 10 MenuItems_Toasted_with_Egg\n",
            " + 4 MenuItems_Toasted_with_Sausage + 10 MenuItems_Toasted_with_Sausage_&_Egg\n",
            " + 4 MenuItems_Vanilla_Shake + 20 MenuItems_Wheaties >= 100\n",
            "\n",
            "Vitamin_C: 4 MenuItems_1%_Lowfat_Milk + 4 MenuItems_Barbeque_Sauce\n",
            " + 10 MenuItems_Breakfast_Burrito + 15 MenuItems_Cheerios\n",
            " + 4 MenuItems_Cheeseburger + 35 MenuItems_Chef_Salad\n",
            " + 4 MenuItems_Chocolate_Shake + 45 MenuItems_Fried_Chicken_Salad\n",
            " + 2 MenuItems_Fried_Chicken_Sandwich + 25 MenuItems_Fries,_large\n",
            " + 40 MenuItems_Fries,_optimal + 15 MenuItems_Fries,_small\n",
            " + 35 MenuItems_Garden_Salad + 2 MenuItems_Global_Maximum\n",
            " + 15 MenuItems_Grilled_Chicken_Sandwich + 4 MenuItems_Hamburger\n",
            " + 2 MenuItems_Hash_Browns + 10 MenuItems_Local_Minimum\n",
            " + 10 MenuItems_Local_Minimum_with_Cheese + 120 MenuItems_Orange_Juice\n",
            " + 6 MenuItems_Quarter_Pound_Cheeseburger + 20 MenuItems_Side_Salad\n",
            " + 4 MenuItems_Strawberry_Shake + 4 MenuItems_Vanilla_Shake\n",
            " + 20 MenuItems_Wheaties >= 100\n",
            "\n",
            "Calcuim: 30 MenuItems_1%_Lowfat_Milk + 6 MenuItems_Apple_Danish\n",
            " + 20 MenuItems_Bacon,_Egg_&_Cheese_Biscuit + 10 MenuItems_Breakfast_Burrito\n",
            " + 2 MenuItems_Cheerios + 8 MenuItems_Cheese_Danish\n",
            " + 20 MenuItems_Cheeseburger + 15 MenuItems_Chef_Salad\n",
            " + 35 MenuItems_Chocolate_Shake + 8 MenuItems_Cinnamon_Raisin_Danish\n",
            " + 15 MenuItems_Fish_Filet_Sandwich + 4 MenuItems_Fried_Chicken_Salad\n",
            " + 15 MenuItems_Fried_Chicken_Sandwich + 4 MenuItems_Garden_Salad\n",
            " + 25 MenuItems_Global_Maximum + 15 MenuItems_Grilled_Chicken_Sandwich\n",
            " + 10 MenuItems_Hamburger + 2 MenuItems_Hot_Mustard_Sauce\n",
            " + 15 MenuItems_Local_Minimum + 20 MenuItems_Local_Minimum_with_Cheese\n",
            " + 10 MenuItems_Lowfat_Frozen_Yogurt_Cone + 2 MenuItems_Orange_Juice\n",
            " + 30 MenuItems_Quarter_Pound_Cheeseburger + 8 MenuItems_Raspberry_Danish\n",
            " + 8 MenuItems_Sausage_Biscuit + 10 MenuItems_Sausage_Biscuit_with_Egg\n",
            " + 2 MenuItems_Side_Salad + 35 MenuItems_Strawberry_Shake\n",
            " + 15 MenuItems_Toasted_English_Muffin + 25 MenuItems_Toasted_with_Egg\n",
            " + 20 MenuItems_Toasted_with_Sausage + 25 MenuItems_Toasted_with_Sausage_&_Egg\n",
            " + 35 MenuItems_Vanilla_Shake + 2 MenuItems_Wheaties >= 100\n",
            "\n",
            "Iron: 4 MenuItems_Apple_Danish + 15 MenuItems_Bacon,_Egg_&_Cheese_Biscuit\n",
            " + 2 MenuItems_Barbeque_Sauce + 8 MenuItems_Breakfast_Burrito\n",
            " + 30 MenuItems_Cheerios + 4 MenuItems_Cheese_Danish\n",
            " + 15 MenuItems_Cheeseburger + 8 MenuItems_Chef_Salad\n",
            " + 18 MenuItems_Chicken_Nuggets_(20_pcs) + 6 MenuItems_Chicken_Nuggets_(6_pcs)\n",
            " + 8 MenuItems_Chicken_Nuggets_(9_pcs) + 6 MenuItems_Chocolate_Shake\n",
            " + 8 MenuItems_Cinnamon_Raisin_Danish + 10 MenuItems_Fish_Filet_Sandwich\n",
            " + 6 MenuItems_Fried_Chicken_Salad + 10 MenuItems_Fried_Chicken_Sandwich\n",
            " + 6 MenuItems_Fries,_large + 8 MenuItems_Fries,_optimal\n",
            " + 2 MenuItems_Fries,_small + 8 MenuItems_Garden_Salad\n",
            " + 20 MenuItems_Global_Maximum + 8 MenuItems_Grilled_Chicken_Sandwich\n",
            " + 15 MenuItems_Hamburger + 20 MenuItems_Local_Minimum\n",
            " + 20 MenuItems_Local_Minimum_with_Cheese + 2 MenuItems_Orange_Juice\n",
            " + 20 MenuItems_Quarter_Pound_Cheeseburger + 4 MenuItems_Raspberry_Danish\n",
            " + 10 MenuItems_Sausage_Biscuit + 20 MenuItems_Sausage_Biscuit_with_Egg\n",
            " + 4 MenuItems_Side_Salad + 2 MenuItems_Strawberry_Shake\n",
            " + 8 MenuItems_Toasted_English_Muffin + 15 MenuItems_Toasted_with_Egg\n",
            " + 15 MenuItems_Toasted_with_Sausage + 20 MenuItems_Toasted_with_Sausage_&_Egg\n",
            " + 2 MenuItems_Vanilla_Shake + 20 MenuItems_Wheaties >= 100\n",
            "\n",
            "VARIABLES\n",
            "0 <= MenuItems_1%_Lowfat_Milk <= 10 Integer\n",
            "0 <= MenuItems_1000_Island_Dressing <= 10 Integer\n",
            "0 <= MenuItems_Apple_Danish <= 10 Integer\n",
            "0 <= MenuItems_Bacon,_Egg_&_Cheese_Biscuit <= 10 Integer\n",
            "0 <= MenuItems_Bacon_Bits <= 10 Integer\n",
            "0 <= MenuItems_Barbeque_Sauce <= 10 Integer\n",
            "0 <= MenuItems_Bleu_Cheese_Dressing <= 10 Integer\n",
            "0 <= MenuItems_Breakfast_Burrito <= 10 Integer\n",
            "0 <= MenuItems_Cheerios <= 10 Integer\n",
            "0 <= MenuItems_Cheese_Danish <= 10 Integer\n",
            "0 <= MenuItems_Cheeseburger <= 10 Integer\n",
            "0 <= MenuItems_Chef_Salad <= 10 Integer\n",
            "0 <= MenuItems_Chicken_Nuggets_(20_pcs) <= 10 Integer\n",
            "0 <= MenuItems_Chicken_Nuggets_(6_pcs) <= 10 Integer\n",
            "0 <= MenuItems_Chicken_Nuggets_(9_pcs) <= 10 Integer\n",
            "0 <= MenuItems_Chocolate_Shake <= 10 Integer\n",
            "0 <= MenuItems_Cinnamon_Raisin_Danish <= 10 Integer\n",
            "0 <= MenuItems_Coca_Cola_(large) <= 10 Integer\n",
            "0 <= MenuItems_Coca_Cola_(medium) <= 10 Integer\n",
            "0 <= MenuItems_Coca_Cola_(small) <= 10 Integer\n",
            "0 <= MenuItems_Croutons <= 10 Integer\n",
            "0 <= MenuItems_Diet_Coke_(large) <= 10 Integer\n",
            "0 <= MenuItems_Diet_Coke_(medium) <= 10 Integer\n",
            "0 <= MenuItems_Diet_Coke_(small) <= 10 Integer\n",
            "0 <= MenuItems_Fish_Filet_Sandwich <= 10 Integer\n",
            "0 <= MenuItems_French_Reduced_Cal_Dressing <= 10 Integer\n",
            "0 <= MenuItems_Fried_Chicken_Salad <= 10 Integer\n",
            "0 <= MenuItems_Fried_Chicken_Sandwich <= 10 Integer\n",
            "0 <= MenuItems_Fries,_large <= 10 Integer\n",
            "0 <= MenuItems_Fries,_optimal <= 10 Integer\n",
            "0 <= MenuItems_Fries,_small <= 10 Integer\n",
            "0 <= MenuItems_Garden_Salad <= 10 Integer\n",
            "0 <= MenuItems_Global_Maximum <= 10 Integer\n",
            "0 <= MenuItems_Grilled_Chicken_Sandwich <= 10 Integer\n",
            "0 <= MenuItems_H_C_Orange_Drink_(large) <= 10 Integer\n",
            "0 <= MenuItems_H_C_Orange_Drink_(medium) <= 10 Integer\n",
            "0 <= MenuItems_H_C_Orange_Drink_(small) <= 10 Integer\n",
            "0 <= MenuItems_Hamburger <= 10 Integer\n",
            "0 <= MenuItems_Hash_Browns <= 10 Integer\n",
            "0 <= MenuItems_Honey <= 10 Integer\n",
            "0 <= MenuItems_Hot_Mustard_Sauce <= 10 Integer\n",
            "0 <= MenuItems_Lite_Vinaigrette_Dressing <= 10 Integer\n",
            "0 <= MenuItems_Local_Minimum <= 10 Integer\n",
            "0 <= MenuItems_Local_Minimum_with_Cheese <= 10 Integer\n",
            "0 <= MenuItems_Lowfat_Frozen_Yogurt_Cone <= 10 Integer\n",
            "0 <= MenuItems_Orange_Juice <= 10 Integer\n",
            "0 <= MenuItems_Quarter_Pound_Cheeseburger <= 10 Integer\n",
            "0 <= MenuItems_Ranch_Dressing <= 10 Integer\n",
            "0 <= MenuItems_Raspberry_Danish <= 10 Integer\n",
            "0 <= MenuItems_Sausage_Biscuit <= 10 Integer\n",
            "0 <= MenuItems_Sausage_Biscuit_with_Egg <= 10 Integer\n",
            "0 <= MenuItems_Side_Salad <= 10 Integer\n",
            "0 <= MenuItems_Sprite_(large) <= 10 Integer\n",
            "0 <= MenuItems_Sprite_(medium) <= 10 Integer\n",
            "0 <= MenuItems_Sprite_(small) <= 10 Integer\n",
            "0 <= MenuItems_Strawberry_Shake <= 10 Integer\n",
            "0 <= MenuItems_Sweet_&_Sour_Sauce <= 10 Integer\n",
            "0 <= MenuItems_Toasted_English_Muffin <= 10 Integer\n",
            "0 <= MenuItems_Toasted_with_Egg <= 10 Integer\n",
            "0 <= MenuItems_Toasted_with_Sausage <= 10 Integer\n",
            "0 <= MenuItems_Toasted_with_Sausage_&_Egg <= 10 Integer\n",
            "0 <= MenuItems_Vanilla_Shake <= 10 Integer\n",
            "0 <= MenuItems_Wheaties <= 10 Integer\n",
            "\n"
          ],
          "name": "stdout"
        }
      ]
    },
    {
      "cell_type": "code",
      "metadata": {
        "id": "ycUQbCm0FH-z"
      },
      "source": [
        "solution=prob.solve()"
      ],
      "execution_count": null,
      "outputs": []
    },
    {
      "cell_type": "code",
      "metadata": {
        "colab": {
          "base_uri": "https://localhost:8080/"
        },
        "id": "bRuHsFsHFVz0",
        "outputId": "a9c767f8-8f5a-4c64-efed-fd8cd51e68a6"
      },
      "source": [
        "print(\"Status:\", p.LpStatus[prob.status])"
      ],
      "execution_count": null,
      "outputs": [
        {
          "output_type": "stream",
          "text": [
            "Status: Optimal\n"
          ],
          "name": "stdout"
        }
      ]
    },
    {
      "cell_type": "code",
      "metadata": {
        "colab": {
          "base_uri": "https://localhost:8080/"
        },
        "id": "QOawXPBqFZ2i",
        "outputId": "db5416fb-1bfa-4914-ad6f-7096ac6ba670"
      },
      "source": [
        "# Get the total cost (minimized)\n",
        "print(\"Total cost = \", value(prob.objective))"
      ],
      "execution_count": null,
      "outputs": [
        {
          "output_type": "stream",
          "text": [
            "Total cost =  8.040000000000001\n"
          ],
          "name": "stdout"
        }
      ]
    },
    {
      "cell_type": "code",
      "metadata": {
        "id": "wMCKq2B1Wrs7"
      },
      "source": [
        "output={}\n",
        "for v in prob.variables():\n",
        "  if v.varValue!=0:\n",
        "    output[v.name] = int(v.varValue)"
      ],
      "execution_count": null,
      "outputs": []
    },
    {
      "cell_type": "code",
      "metadata": {
        "colab": {
          "base_uri": "https://localhost:8080/"
        },
        "id": "PPO4k4c5ZO3G",
        "outputId": "1d53b5ea-f1a1-485e-f54c-c81f61fdcddd"
      },
      "source": [
        "output"
      ],
      "execution_count": null,
      "outputs": [
        {
          "output_type": "execute_result",
          "data": {
            "text/plain": [
              "{'MenuItems_Cheerios': 1,\n",
              " 'MenuItems_Chocolate_Shake': 2,\n",
              " 'MenuItems_Cinnamon_Raisin_Danish': 1,\n",
              " 'MenuItems_Croutons': 3,\n",
              " 'MenuItems_Hamburger': 3,\n",
              " 'MenuItems_Honey': 2,\n",
              " 'MenuItems_Orange_Juice': 1,\n",
              " 'MenuItems_Side_Salad': 1}"
            ]
          },
          "metadata": {
            "tags": []
          },
          "execution_count": 39
        }
      ]
    },
    {
      "cell_type": "code",
      "metadata": {
        "id": "luUcJhCrFg-v"
      },
      "source": [
        "# Loop over the constraint set and get the final solution\n",
        "results = {}\n",
        "for constraint in prob.constraints:\n",
        "    s = 0\n",
        "    for var, coefficient in prob.constraints[constraint].items():\n",
        "        s += var.varValue*coefficient\n",
        "        results[prob.constraints[constraint].name.replace('_lower','').replace('_upper','')] = int(s)"
      ],
      "execution_count": null,
      "outputs": []
    },
    {
      "cell_type": "code",
      "metadata": {
        "colab": {
          "base_uri": "https://localhost:8080/"
        },
        "id": "ew8c4rEsJbFq",
        "outputId": "e4faae95-4511-408b-e25b-54c126889832"
      },
      "source": [
        "results"
      ],
      "execution_count": null,
      "outputs": [
        {
          "output_type": "execute_result",
          "data": {
            "text/plain": [
              "{'Cal': 2325,\n",
              " 'Calcuim': 114,\n",
              " 'Carbo': 352,\n",
              " 'Cholestrol': 235,\n",
              " 'Drinklimit': 3,\n",
              " 'Fat': 69,\n",
              " 'Iron': 101,\n",
              " 'Protein': 76,\n",
              " 'Saturated_Fat': 26,\n",
              " 'Saucelimit': 2,\n",
              " 'Sodium': 2915,\n",
              " 'Vitamin_A': 125,\n",
              " 'Vitamin_C': 175}"
            ]
          },
          "metadata": {
            "tags": []
          },
          "execution_count": 38
        }
      ]
    }
  ]
}